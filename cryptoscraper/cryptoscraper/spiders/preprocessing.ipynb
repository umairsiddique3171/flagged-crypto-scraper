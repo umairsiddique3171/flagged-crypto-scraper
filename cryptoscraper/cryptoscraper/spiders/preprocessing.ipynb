{
 "cells": [
  {
   "cell_type": "markdown",
   "id": "9f88e735",
   "metadata": {},
   "source": [
    "``Since the dataset was large, using preprocessing pipelines with the scraper would have taken additional time, so I opted to preprocess the data after it was scraped.``"
   ]
  },
  {
   "cell_type": "code",
   "execution_count": 1,
   "id": "a7b5d9a6",
   "metadata": {},
   "outputs": [],
   "source": [
    "import pandas as pd"
   ]
  },
  {
   "cell_type": "code",
   "execution_count": 2,
   "id": "2b9c2c72",
   "metadata": {},
   "outputs": [],
   "source": [
    "data = pd.read_csv(\"data.csv\")"
   ]
  },
  {
   "cell_type": "code",
   "execution_count": 3,
   "id": "c8708664",
   "metadata": {},
   "outputs": [
    {
     "data": {
      "text/plain": [
       "(10141, 3)"
      ]
     },
     "execution_count": 3,
     "metadata": {},
     "output_type": "execute_result"
    }
   ],
   "source": [
    "data.shape"
   ]
  },
  {
   "cell_type": "code",
   "execution_count": 4,
   "id": "caf4559c",
   "metadata": {},
   "outputs": [
    {
     "data": {
      "text/html": [
       "<div>\n",
       "<style scoped>\n",
       "    .dataframe tbody tr th:only-of-type {\n",
       "        vertical-align: middle;\n",
       "    }\n",
       "\n",
       "    .dataframe tbody tr th {\n",
       "        vertical-align: top;\n",
       "    }\n",
       "\n",
       "    .dataframe thead th {\n",
       "        text-align: right;\n",
       "    }\n",
       "</style>\n",
       "<table border=\"1\" class=\"dataframe\">\n",
       "  <thead>\n",
       "    <tr style=\"text-align: right;\">\n",
       "      <th></th>\n",
       "      <th>crypto_address</th>\n",
       "      <th>crypto_name</th>\n",
       "      <th>flagging_reason</th>\n",
       "    </tr>\n",
       "  </thead>\n",
       "  <tbody>\n",
       "    <tr>\n",
       "      <th>0</th>\n",
       "      <td>1KfDSTkha7VFhXthkrBQz1NU5neYA5KZ2W</td>\n",
       "      <td>Bitcoin</td>\n",
       "      <td>Other Blackmail Scam</td>\n",
       "    </tr>\n",
       "    <tr>\n",
       "      <th>1</th>\n",
       "      <td>1MGhQywSXbXcDM6AFFziyKvADwpBELtvAx</td>\n",
       "      <td>Bitcoin</td>\n",
       "      <td>Other Blackmail Scam</td>\n",
       "    </tr>\n",
       "    <tr>\n",
       "      <th>2</th>\n",
       "      <td>1Bs6CYDuHy1UGLr5ccz2UxRNcPGpeAa7tz</td>\n",
       "      <td>Bitcoin</td>\n",
       "      <td>Other Blackmail Scam</td>\n",
       "    </tr>\n",
       "    <tr>\n",
       "      <th>3</th>\n",
       "      <td>1AUWTKftT3jtsee7q4A7JRiGea5x1vJxys</td>\n",
       "      <td>Bitcoin</td>\n",
       "      <td>Sextortion Scam</td>\n",
       "    </tr>\n",
       "    <tr>\n",
       "      <th>4</th>\n",
       "      <td>bc1qee5ku3jfe9yx224sw8zu2jd3u9axlnye5kwa20</td>\n",
       "      <td>Bitcoin</td>\n",
       "      <td>Other Blackmail Scam</td>\n",
       "    </tr>\n",
       "  </tbody>\n",
       "</table>\n",
       "</div>"
      ],
      "text/plain": [
       "                               crypto_address crypto_name  \\\n",
       "0          1KfDSTkha7VFhXthkrBQz1NU5neYA5KZ2W     Bitcoin   \n",
       "1          1MGhQywSXbXcDM6AFFziyKvADwpBELtvAx     Bitcoin   \n",
       "2          1Bs6CYDuHy1UGLr5ccz2UxRNcPGpeAa7tz     Bitcoin   \n",
       "3          1AUWTKftT3jtsee7q4A7JRiGea5x1vJxys     Bitcoin   \n",
       "4  bc1qee5ku3jfe9yx224sw8zu2jd3u9axlnye5kwa20     Bitcoin   \n",
       "\n",
       "        flagging_reason  \n",
       "0  Other Blackmail Scam  \n",
       "1  Other Blackmail Scam  \n",
       "2  Other Blackmail Scam  \n",
       "3       Sextortion Scam  \n",
       "4  Other Blackmail Scam  "
      ]
     },
     "execution_count": 4,
     "metadata": {},
     "output_type": "execute_result"
    }
   ],
   "source": [
    "data.head()"
   ]
  },
  {
   "cell_type": "code",
   "execution_count": 5,
   "id": "fec8d382",
   "metadata": {},
   "outputs": [
    {
     "data": {
      "text/plain": [
       "crypto_address     3\n",
       "crypto_name        0\n",
       "flagging_reason    0\n",
       "dtype: int64"
      ]
     },
     "execution_count": 5,
     "metadata": {},
     "output_type": "execute_result"
    }
   ],
   "source": [
    "data.isna().sum()"
   ]
  },
  {
   "cell_type": "code",
   "execution_count": 6,
   "id": "016daf68",
   "metadata": {},
   "outputs": [],
   "source": [
    "data.dropna(inplace=True)"
   ]
  },
  {
   "cell_type": "code",
   "execution_count": 7,
   "id": "95ec2624",
   "metadata": {},
   "outputs": [
    {
     "data": {
      "text/plain": [
       "crypto_address     0\n",
       "crypto_name        0\n",
       "flagging_reason    0\n",
       "dtype: int64"
      ]
     },
     "execution_count": 7,
     "metadata": {},
     "output_type": "execute_result"
    }
   ],
   "source": [
    "data.isna().sum()"
   ]
  },
  {
   "cell_type": "code",
   "execution_count": 8,
   "id": "4104b329",
   "metadata": {},
   "outputs": [
    {
     "data": {
      "text/plain": [
       "(10138, 3)"
      ]
     },
     "execution_count": 8,
     "metadata": {},
     "output_type": "execute_result"
    }
   ],
   "source": [
    "data.shape"
   ]
  },
  {
   "cell_type": "code",
   "execution_count": 9,
   "id": "a6394b4a",
   "metadata": {},
   "outputs": [
    {
     "data": {
      "text/plain": [
       "array(['Other Blackmail Scam', 'Sextortion Scam', 'Ransomware', 'Other: ',\n",
       "       'Romance Scam', 'Phishing Scam', 'Hack - Other',\n",
       "       'Pigbutchering Scam', 'Fake Project Scam', 'Impersonation Scam',\n",
       "       'Fake Returns Scam', 'SIM Swap Scam', 'Rug Pull Scam', 'Other',\n",
       "       'Donation Impersonation Scam', 'Contract Exploit Scam',\n",
       "       'NFT Airdrop Scam', 'Other Investment Scam'], dtype=object)"
      ]
     },
     "execution_count": 9,
     "metadata": {},
     "output_type": "execute_result"
    }
   ],
   "source": [
    "data['flagging_reason'].unique()"
   ]
  },
  {
   "cell_type": "code",
   "execution_count": 10,
   "id": "473fe8f8",
   "metadata": {},
   "outputs": [],
   "source": [
    "data.loc[data['flagging_reason'] == 'Other Blackmail Scam','flagging_reason'] = 'Blackmail Scam'\n",
    "data.loc[data['flagging_reason'] == 'Other: ','flagging_reason'] = 'Other'\n",
    "data.loc[data['flagging_reason'] == 'Hack - Other','flagging_reason'] = 'Hack'\n",
    "data.loc[data['flagging_reason'] == 'Other Investment Scam','flagging_reason'] = 'Investment Scam'"
   ]
  },
  {
   "cell_type": "code",
   "execution_count": 11,
   "id": "4a7b8e9c",
   "metadata": {},
   "outputs": [
    {
     "data": {
      "text/plain": [
       "array(['Blackmail Scam', 'Sextortion Scam', 'Ransomware', 'Other',\n",
       "       'Romance Scam', 'Phishing Scam', 'Hack', 'Pigbutchering Scam',\n",
       "       'Fake Project Scam', 'Impersonation Scam', 'Fake Returns Scam',\n",
       "       'SIM Swap Scam', 'Rug Pull Scam', 'Donation Impersonation Scam',\n",
       "       'Contract Exploit Scam', 'NFT Airdrop Scam', 'Investment Scam'],\n",
       "      dtype=object)"
      ]
     },
     "execution_count": 11,
     "metadata": {},
     "output_type": "execute_result"
    }
   ],
   "source": [
    "data['flagging_reason'].unique()"
   ]
  },
  {
   "cell_type": "code",
   "execution_count": 12,
   "id": "16681572",
   "metadata": {},
   "outputs": [],
   "source": [
    "data = data.loc[~(data['crypto_address'].str.len()<20)]"
   ]
  },
  {
   "cell_type": "code",
   "execution_count": 13,
   "id": "ab69037b",
   "metadata": {},
   "outputs": [
    {
     "data": {
      "text/plain": [
       "(10137, 3)"
      ]
     },
     "execution_count": 13,
     "metadata": {},
     "output_type": "execute_result"
    }
   ],
   "source": [
    "data.shape"
   ]
  },
  {
   "cell_type": "code",
   "execution_count": 14,
   "id": "873586f9",
   "metadata": {},
   "outputs": [],
   "source": [
    "data.to_csv(\"preprocessed_data.csv\",index=False)"
   ]
  },
  {
   "cell_type": "code",
   "execution_count": null,
   "id": "108228f6",
   "metadata": {},
   "outputs": [],
   "source": []
  }
 ],
 "metadata": {
  "kernelspec": {
   "display_name": "Python 3 (ipykernel)",
   "language": "python",
   "name": "python3"
  },
  "language_info": {
   "codemirror_mode": {
    "name": "ipython",
    "version": 3
   },
   "file_extension": ".py",
   "mimetype": "text/x-python",
   "name": "python",
   "nbconvert_exporter": "python",
   "pygments_lexer": "ipython3",
   "version": "3.11.5"
  }
 },
 "nbformat": 4,
 "nbformat_minor": 5
}
